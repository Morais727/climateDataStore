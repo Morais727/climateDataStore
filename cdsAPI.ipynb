{
 "cells": [
  {
   "cell_type": "markdown",
   "id": "765cbfce",
   "metadata": {},
   "source": [
    "### ***Imports***"
   ]
  },
  {
   "cell_type": "code",
   "execution_count": 1,
   "id": "6d42b45f",
   "metadata": {},
   "outputs": [
    {
     "name": "stderr",
     "output_type": "stream",
     "text": [
      "2025-08-29 10:21:41,877 INFO [2024-09-26T00:00:00] Watch our [Forum](https://forum.ecmwf.int/) for Announcements, news and other discussed topics.\n"
     ]
    }
   ],
   "source": [
    "import cdsapi\n",
    "import os\n",
    "from dotenv import load_dotenv\n",
    "import xarray as xr\n",
    "\n",
    "load_dotenv()\n",
    "client = cdsapi.Client(\n",
    "    url=os.getenv(\"CDSAPI_URL\"),\n",
    "    key=os.getenv(\"CDSAPI_KEY\")\n",
    ")"
   ]
  },
  {
   "cell_type": "markdown",
   "id": "3fdebb6b",
   "metadata": {},
   "source": [
    "## ***Requests***"
   ]
  },
  {
   "cell_type": "code",
   "execution_count": 18,
   "id": "57ef0cf1",
   "metadata": {},
   "outputs": [
    {
     "name": "stderr",
     "output_type": "stream",
     "text": [
      "2025-08-29 11:05:46,030 INFO [2024-09-26T00:00:00] Watch our [Forum](https://forum.ecmwf.int/) for Announcements, news and other discussed topics.\n",
      "2025-08-29 11:05:47,246 INFO Request ID is e1e6b652-b900-4152-9aa4-b49e4444015e\n",
      "2025-08-29 11:05:47,466 INFO status has been updated to accepted\n",
      "2025-08-29 11:06:10,248 INFO status has been updated to running\n",
      "2025-08-29 11:06:21,921 INFO status has been updated to successful\n",
      "                                                                                         \r"
     ]
    },
    {
     "data": {
      "text/plain": [
       "'output.nc'"
      ]
     },
     "execution_count": 18,
     "metadata": {},
     "output_type": "execute_result"
    }
   ],
   "source": [
    "dataset = \"reanalysis-era5-single-levels\"\n",
    "request = {\n",
    "    \"product_type\": [\"reanalysis\"],\n",
    "    \"year\": [\"2002\"],\n",
    "    \"month\": [\"03\"],\n",
    "    \"day\": [\"11\"],\n",
    "    \"time\": [\"22:00\"],\n",
    "    \"data_format\": \"netcdf\",\n",
    "    \"download_format\": \"unarchived\",\n",
    "    \"variable\": [\n",
    "        \"10m_u_component_of_wind\",\n",
    "        \"mean_sea_level_pressure\",\n",
    "        \"2m_temperature\",\n",
    "        #\"significant_height_of_combined_wind_waves_and_swell\"\n",
    "    ],\n",
    "    \"area\": [-19, -48, -23, -43]\n",
    "}\n",
    "\n",
    "client = cdsapi.Client()\n",
    "client.retrieve(dataset, request, \"output.nc\")"
   ]
  },
  {
   "cell_type": "code",
   "execution_count": 19,
   "id": "6269b53d",
   "metadata": {},
   "outputs": [
    {
     "name": "stdout",
     "output_type": "stream",
     "text": [
      "<xarray.Dataset> Size: 5kB\n",
      "Dimensions:     (valid_time: 1, latitude: 17, longitude: 21)\n",
      "Coordinates:\n",
      "    number      int64 8B ...\n",
      "  * valid_time  (valid_time) datetime64[ns] 8B 2002-03-11T22:00:00\n",
      "  * latitude    (latitude) float64 136B -19.0 -19.25 -19.5 ... -22.75 -23.0\n",
      "  * longitude   (longitude) float64 168B -48.0 -47.75 -47.5 ... -43.25 -43.0\n",
      "    expver      <U4 16B ...\n",
      "Data variables:\n",
      "    u10         (valid_time, latitude, longitude) float32 1kB ...\n",
      "    msl         (valid_time, latitude, longitude) float32 1kB ...\n",
      "    t2m         (valid_time, latitude, longitude) float32 1kB ...\n",
      "Attributes:\n",
      "    GRIB_centre:             ecmf\n",
      "    GRIB_centreDescription:  European Centre for Medium-Range Weather Forecasts\n",
      "    GRIB_subCentre:          0\n",
      "    Conventions:             CF-1.7\n",
      "    institution:             European Centre for Medium-Range Weather Forecasts\n",
      "    history:                 2025-08-29T14:06 GRIB to CDM+CF via cfgrib-0.9.1...\n"
     ]
    }
   ],
   "source": [
    "ds = xr.open_dataset(\"output.nc\", engine=\"netcdf4\")\n",
    "print(ds)"
   ]
  },
  {
   "cell_type": "markdown",
   "id": "12201b30",
   "metadata": {},
   "source": [
    "## ***Export***"
   ]
  },
  {
   "cell_type": "code",
   "execution_count": 21,
   "id": "0d82a3cf",
   "metadata": {},
   "outputs": [
    {
     "name": "stdout",
     "output_type": "stream",
     "text": [
      "Arquivo 'dados_completos.csv' salvo com sucesso!\n",
      "           valid_time  latitude  longitude       u10         msl         t2m  \\\n",
      "0 2002-03-11 22:00:00     -19.0     -48.00 -1.457718  101338.250  296.898682   \n",
      "1 2002-03-11 22:00:00     -19.0     -47.75 -1.563187  101374.375  296.685791   \n",
      "2 2002-03-11 22:00:00     -19.0     -47.50 -1.617874  101388.125  296.359619   \n",
      "3 2002-03-11 22:00:00     -19.0     -47.25 -1.890335  101384.000  296.185791   \n",
      "4 2002-03-11 22:00:00     -19.0     -47.00 -1.443069  101407.000  295.713135   \n",
      "\n",
      "   number expver  \n",
      "0       0   0001  \n",
      "1       0   0001  \n",
      "2       0   0001  \n",
      "3       0   0001  \n",
      "4       0   0001  \n"
     ]
    }
   ],
   "source": [
    "ds = xr.open_dataset(\"output.nc\")\n",
    "\n",
    "df_completo = ds.to_dataframe()\n",
    "df_completo = df_completo.reset_index()\n",
    "df_completo.to_csv(\"dados_completos.csv\", index=False)\n",
    "\n",
    "print(\"Arquivo 'dados_completos.csv' salvo com sucesso!\")\n",
    "print(df_completo.head())\n",
    "#Visualizar graficos -> ncview output.nc"
   ]
  }
 ],
 "metadata": {
  "kernelspec": {
   "display_name": "Python 3",
   "language": "python",
   "name": "python3"
  },
  "language_info": {
   "codemirror_mode": {
    "name": "ipython",
    "version": 3
   },
   "file_extension": ".py",
   "mimetype": "text/x-python",
   "name": "python",
   "nbconvert_exporter": "python",
   "pygments_lexer": "ipython3",
   "version": "3.13.7"
  }
 },
 "nbformat": 4,
 "nbformat_minor": 5
}
